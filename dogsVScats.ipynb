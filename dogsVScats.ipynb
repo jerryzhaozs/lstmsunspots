{
 "cells": [
  {
   "cell_type": "markdown",
   "id": "41839ddf",
   "metadata": {},
   "source": [
    "# 猫狗大战"
   ]
  },
  {
   "cell_type": "markdown",
   "id": "3f7b4a80",
   "metadata": {},
   "source": [
    "本节使用的数据集来自 Kaggle 网站上的“Dogs vs. Cats ” 竞赛项目。在这个数据集的训练数据集中一共有 25000 张猫和狗的图片，其中包含 12500 张猫的图片和 12500 张狗的图片。在测试数据集中有12500 张图片，不过其中的猫狗图片是无序混杂的，而且没有对应的标签。这些数据集将被用于对模型进行训练和对参数进行优化，以及在最后对模型的泛化能力进行验证。"
   ]
  },
  {
   "cell_type": "markdown",
   "id": "92590192",
   "metadata": {},
   "source": [
    "在本实践中我们分别从训练数据集的猫和狗的图片中各抽出 2500 张图片组成一个具有5000 张图片的验证数据集。 我们也可以将验证数据集看作考试中的模拟训练测试，将测试数据集看作考试中的最终测试，通过两个结果看测试的整体能力，但是测试数据集最后会有绝对的主导作用。不过本节使用的测试数据集是没有标签的，而且本节旨在证明迁移学习比传统的训练高效，所以暂吋不使用在数据集中提供的测试数据集，我们进行的只是模型对验证数据集的准确性的横向比较。"
   ]
  },
  {
   "attachments": {
    "image-2.png": {
     "image/png": "[encoded data removed]"
    }
   },
   "cell_type": "markdown",
   "id": "11bd4bd5",
   "metadata": {},
   "source": [
    "新建一个名为 DogsVSCats 的文件夹，在该文什夹下面新建一个名为 train和一个名为valid 的子文件夹，在子文件夹下面再分别新建一个名为cat 的文件夹和一个名为dog 的文件夹，最后将数据集中对应部分的数据放到对应名字的文件夹中，之后就可以进行数据的载入了。\n",
    "\n",
    "目录结构如下：\n",
    "![image-2.png](attachment:image-2.png)"
   ]
  },
  {
   "cell_type": "markdown",
   "id": "4a681778",
   "metadata": {},
   "source": [
    "## 1、数据预览"
   ]
  },
  {
   "cell_type": "code",
   "execution_count": null,
   "id": "6c260a38",
   "metadata": {},
   "outputs": [],
   "source": [
    "import torch\n",
    "import torchvision\n",
    "from torchvision import datasets,models,transforms\n",
    "import os\n",
    "import matplotlib.pyplot as plt\n",
    "import time\n",
    "from torch.autograd import Variable"
   ]
  },
  {
   "cell_type": "code",
   "execution_count": null,
   "id": "7321bc4f",
   "metadata": {},
   "outputs": [],
   "source": [
    "data_dir=\"DogsVSCats\"\n",
    "data_transform={x:transforms.Compose([transforms.Resize([64,64]),\n",
    "                                     transforms.ToTensor()])\n",
    "               for x in [\"train\",\"valid\"]}\n",
    "image_datasets={x: datasets.ImageFolder(root=os.path.join(data_dir,x),\n",
    "                                       transform=data_transform[x])\n",
    "               for x in [\"train\",\"valid\"]}\n",
    "dataloader={x:torch.utils.data.DataLoader(dataset=image_datasets[x],\n",
    "                                         batch_size=16,\n",
    "                                         shuffle=True)\n",
    "           for x in [\"train\",\"valid\"]}"
   ]
  },
  {
   "cell_type": "markdown",
   "id": "97e07ece",
   "metadata": {},
   "source": [
    " 在进行数据的载入时我们使用 torch.transforms 中的 Resize类将原始图片的大小统一缩放至 64×64。在以上代码中对数据的变换和导入都使用了字典的形式，因为我们需要分别对训练数据集和验证数据集的数据载入方法进行简单定义，所以使用字典可以简化代码，也方便之后进行相应的调用和操作。 os.path.join 就是来自之前提到的 os 包的方法，它的作用是将输入参数中的两个名字拼接成一个完整的文件路径。"
   ]
  },
  {
   "cell_type": "code",
   "execution_count": null,
   "id": "c1b11970",
   "metadata": {},
   "outputs": [],
   "source": [
    "#获取一批次的数据进行预览和分析\n",
    "X_example,y_example=next(iter(dataloader[\"train\"]))\n",
    "print(X_example.shape)\n",
    "print(y_example)"
   ]
  },
  {
   "cell_type": "markdown",
   "id": "97c50a20",
   "metadata": {},
   "source": [
    " y_example 也是Tensor 数据类型的变量，不过其中的元素全部是0和1,这是因为在进行数据装载时己经对 dog 文件夹和 cat 文件夹下的内容进行了独热编码 （One-Hot Encoding)，所以这时的0和1不仅是每张图片的标签，还分别对应猫的图片和狗的图片。我们可以做一个简单的打印输出，来验证这个独热编码的对应关系"
   ]
  },
  {
   "cell_type": "code",
   "execution_count": null,
   "id": "23d7bda4",
   "metadata": {
    "scrolled": true
   },
   "outputs": [],
   "source": [
    "index_classes=image_datasets[\"train\"].class_to_idx\n",
    "print(index_classes)"
   ]
  },
  {
   "cell_type": "markdown",
   "id": "e17f1626",
   "metadata": {},
   "source": [
    "这样就很明显了，猫的图片标签和狗的图片标签被独热编码后分别被数字化了，相较于使用文字作为图片的标签而言，使用0 和1也可以让之后的计算方便很多。不过，为了增加之后绘制的图像标签的可识别性，将原始标签的结果存储在名为example_clasces 的变量中。"
   ]
  },
  {
   "cell_type": "code",
   "execution_count": null,
   "id": "a5377e7f",
   "metadata": {},
   "outputs": [],
   "source": [
    "example_classes=image_datasets[\"train\"].classes\n",
    "print(example_classes)"
   ]
  },
  {
   "cell_type": "code",
   "execution_count": null,
   "id": "86f7ac5e",
   "metadata": {},
   "outputs": [],
   "source": [
    "img=torchvision.utils.make_grid(X_example)  #将多张图片组合成一张图片\n",
    "img=img.numpy().transpose([1,2,0])\n",
    "print([example_classes[i] for i in y_example])\n",
    "plt.imshow(img)\n",
    "plt.show()"
   ]
  }
 ],
 "metadata": {
  "kernelspec": {
   "display_name": "Python 3 (ipykernel)",
   "language": "python",
   "name": "python3"
  },
  "language_info": {
   "codemirror_mode": {
    "name": "ipython",
    "version": 3
   },
   "file_extension": ".py",
   "mimetype": "text/x-python",
   "name": "python",
   "nbconvert_exporter": "python",
   "pygments_lexer": "ipython3",
   "version": "3.8.13"
  }
 },
 "nbformat": 4,
 "nbformat_minor": 5
}
