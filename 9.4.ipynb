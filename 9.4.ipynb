{
 "cells": [
  {
   "cell_type": "markdown",
   "id": "ddecf705",
   "metadata": {},
   "source": [
    "PyTorch有四类功能：数据 、网络层、优化方法、预定义模型和数据 。\n",
    "## 9.4.1 数据预处理\n",
    "PyTorch封装了一个专门的模块来进行深度学习图片数据的预处理操作——torchvision.transforms, 这个模块封装了随机翻转、随机擦除、随机裁剪、缩放、填充、标淮化等常用数据处理操作,值得注意的是这些操作针对的数据格式为 PIL.Image类或者 torch.Tensor。\n",
    "\n",
    "PyTorch还封装了torch.Tensor和PIL.Image相互转换的接口：torchvision.transforms. ToTens()和torchvision.transforms.ToPILImage()，方便图片转换后导入深度学习模型中。\n",
    "下面使用这些PyTorch 接口，将一张图片进行中心裁剪、缩放，水平翻转，\n"
   ]
  },
  {
   "cell_type": "code",
   "execution_count": null,
   "id": "5a14683f",
   "metadata": {},
   "outputs": [],
   "source": [
    "#导入相应库\n",
    "import torchvision\n",
    "import PIL\n",
    "#导入指定图片\n",
    "im=PIL.Image.open('./cat.jpg')\n",
    "print(\"原始图片大小：\",im.size)\n",
    "#初始化一个保留尺寸为256×256的中心裁剪函数\n",
    "centercrop= torchvision.transforms.CenterCrop(size=[256,256])\n",
    "im_1=centercrop(im) #裁剪图片\n",
    "print(im_1.size)\n",
    "#也可以借助torchvision.transforms.Compose()接口，可以任意地组合上述操作\n",
    "transform=torchvision.transforms.Compose([    \n",
    "    torchvision.transforms.Resize(size=(128,128)),\n",
    "    torchvision.transforms.RandomHorizontalFlip() #依概率做水平翻转，默认是0.5\n",
    "])\n",
    "after_im=transform(im_1)\n",
    "print(\"被处理后大小：\",after_im.size)\n",
    "after_im.show()"
   ]
  },
  {
   "cell_type": "markdown",
   "id": "a14a323e",
   "metadata": {},
   "source": [
    "## 9.4.2 损失函数"
   ]
  },
  {
   "cell_type": "markdown",
   "id": "abd57e13",
   "metadata": {},
   "source": [
    "我们以一个简单的房屋价格预测任务为例，创建线性回归模型并计算损失函数。房屋价格可能与很多因素相关，如所处地段、房屋面积、市场行情和房屋年龄等等，假设该任务的房屋价格仅与屋龄x_1(年)和面积x_2(m2)有关，那么房屋价格y(元/m2)线性回归模型我们定义为：y ̃=w_1 x_1+w_2 x_2+b，其中，w_1和w_2是权重，b是偏差，y ̃是预测值。\n",
    "\n",
    "表8-6 房屋相关数据信息表\n",
    "\n",
    "|编号|房屋年龄（年）|面积（m2）|房屋单价（元/m2）|\n",
    "|---|---|---|---|\n",
    "|1|30|50|10500|\n",
    "|2|25|55|11000|\n",
    "|3|10|89|13900|\n"
   ]
  },
  {
   "cell_type": "code",
   "execution_count": null,
   "id": "d9a41807",
   "metadata": {},
   "outputs": [],
   "source": [
    "#导入相应包\n",
    "import torch\n",
    "import numpy as np\n",
    "#初始化权重和偏差\n",
    "w1=torch.rand(1)\n",
    "w2=torch.rand(1)\n",
    "b=torch.rand(1)\n",
    "print(w1,w2,b)\n",
    "#定义线性回归模型\n",
    "def linear_model(x1,x2):\n",
    "    y_hat=w1*x1+w2*x2+b\n",
    "    return y_hat\n",
    "y_hat=linear_model(x1=30,x2=50)\n",
    "print(\"预测结果：\",y_hat.item())"
   ]
  },
  {
   "cell_type": "code",
   "execution_count": null,
   "id": "f1c69d3b",
   "metadata": {},
   "outputs": [],
   "source": [
    "#下面我们使用均方差损失函数评估预测值和真实值的误差\n",
    "L2Loss=torch.nn.MSELoss()\n",
    "y=torch.Tensor([10500])\n",
    "print(L2Loss(y_hat,y))"
   ]
  },
  {
   "cell_type": "markdown",
   "id": "b460253e",
   "metadata": {},
   "source": [
    "## 9.4.3 优化方法"
   ]
  },
  {
   "cell_type": "markdown",
   "id": "231fb5e8",
   "metadata": {},
   "source": [
    "**小批次随机梯度下降法 (mini-batch Stochastic Gradient Descent, SGD)**\n",
    "\n",
    "按照数据生成分布随机抽取样本，通过计算其梯度平均值来更新梯度\n",
    "\n",
    "**RMSProp(Root Mean Square Prop)**\n",
    "\n",
    "为了进一步优化损失函数在更新中存在的摆动幅度过大的问题，并且进一步加快函数的收敛速度，RMSProp算法对权重参数w和偏置参数b的梯度使用了微分平方加权平均数。\n",
    "\n",
    "**Adam** \n",
    "\n",
    "Adam 是一种对随机梯度下降法的扩展，该算法计算了梯度和平方梯度的指数移动平均值，并控制了这些移动平均的衰减率。在实践中，Adam优于其他随机优化方法，被认为是大部分深度学习应用的默认优化方法。\n",
    "\n",
    "在这些优化方法中其他参数(如 Ir, alpha,betas, …）均为人为设定,并不是通过模型训练学得的。\n",
    "\n",
    "下面我们以Adam优化器为例，通过调用PyTorch的自动求梯度，完成房屋模型一次迭代的过程。"
   ]
  },
  {
   "cell_type": "code",
   "execution_count": null,
   "id": "b5485cb6",
   "metadata": {},
   "outputs": [],
   "source": [
    "import torch\n",
    "#初始化权重和偏差,并将requires_grad设置为True\n",
    "w1=torch.rand(1,requires_grad=True)\n",
    "w2=torch.rand(1,requires_grad=True)\n",
    "b=torch.rand(1,requires_grad=True)\n",
    "\n",
    "#重新计算预测值和损失（以L2损失为例）\n",
    "y_hat=linear_model(x1=30,x2=50)\n",
    "l=L2Loss(y_hat,y)\n",
    "#打印本次迭代前的各项指标\n",
    "print(\"本次迭代前：\")\n",
    "print('w1\\t',w1)\n",
    "print('w2\\t',w2)\n",
    "print('b\\t',b)\n",
    "print('y_hat',y_hat)\n",
    "print('loss\\t',l)\n",
    "#设置优化器，并指定更新参数为w1,w2,b和学习率为1\n",
    "optimizer=torch.optim.Adam([w1,w2,b],lr=1.0)\n",
    "#调用自动微分系统求参数(w1,w2,b的)梯度\n",
    "l.backward()\n",
    "#梯度下降法更新参数，所有的optimizer都实现了step()方法，这个方法会更新所有的参数。\n",
    "optimizer.step()\n",
    "#重新计算预测值和损失值 \n",
    "y_hat=linear_model(x1=30,x2=50)\n",
    "l=L2Loss(y_hat,y)\n",
    "\n",
    "print(\"本次迭代后：\")\n",
    "print('w1\\t',w1)\n",
    "print('w2\\t',w2)\n",
    "print('b\\t',b)\n",
    "print('y_hat',y_hat)\n",
    "print('loss\\t',l)"
   ]
  },
  {
   "cell_type": "markdown",
   "id": "14c3c280",
   "metadata": {},
   "source": [
    "## 9.4.4 激活函数"
   ]
  },
  {
   "cell_type": "code",
   "execution_count": null,
   "id": "2f8937f4",
   "metadata": {},
   "outputs": [],
   "source": [
    "import torch\n",
    "#声明一个Tensor\n",
    "x=torch.rand(3,3)\n",
    "#第一种调用方式，使用Tensor内置函数\n",
    "print(x.sigmoid())\n",
    "#第二种方式，调用torch.nn.Sigmoid()\n",
    "sigmoid=torch.nn.Sigmoid()\n",
    "print(sigmoid(x))"
   ]
  },
  {
   "cell_type": "markdown",
   "id": "6caa2881",
   "metadata": {},
   "source": [
    "## 9.4.5 网络模块\n",
    "在pytorch的深度学习中，很多网络层，如全连接层、卷积层、池化层都封装在torch.nn下。torch.nn是专门为神经网络设计的模块化接口，torch.nn.Module是所有神经网络模块的基类，通过继承torch.nn.Module类构建神经网络模型。\n",
    "下面我们依次介绍卷积、池化，以及torch.nn.Module的使用方法。"
   ]
  },
  {
   "cell_type": "markdown",
   "id": "4053b3ee",
   "metadata": {},
   "source": [
    "### 1、卷积和池化\n",
    "例如：输入张量大小为100×4×4，经过一个大小为2×2的卷积核，填充为0，步幅为1，通道数为90的卷积运算后，再进行一个池化区域为2×2，填充为0，步幅为1的最大池化运算，代码如下所示。"
   ]
  },
  {
   "cell_type": "code",
   "execution_count": null,
   "id": "c8a85843",
   "metadata": {},
   "outputs": [],
   "source": [
    "import torch\n",
    "input_tensor = torch.rand(1,100,4,4)\n",
    "print(\"输入张量大小：\")\n",
    "print(\"\\t\",input_tensor.shape)\n",
    "conv=torch.nn.Conv2d(in_channels=100,\n",
    "                     out_channels=90,\n",
    "                     kernel_size=(2,2),\n",
    "                     padding=0,\n",
    "                     stride=1)\n",
    "# print(\"卷积核大小：\")\n",
    "# print(\"\\t\",conv.weight.shape)\n",
    "output_tensor=conv(input_tensor)\n",
    "print(\"输出张量大小：\")\n",
    "print(\"\\t\",output_tensor.shape)\n",
    "maxpool = torch.nn.MaxPool2d(kernel_size=(2,2),\n",
    "                             padding=0)\n",
    "pooling_tensor= maxpool(output_tensor)\n",
    "print(\"池化后张量大小：\")\n",
    "print(\"\\t\",pooling_tensor.shape)"
   ]
  },
  {
   "attachments": {
    "image-2.png": {
     "image/png": "[encoded data removed]"
    }
   },
   "cell_type": "markdown",
   "id": "ba4e18b2",
   "metadata": {},
   "source": [
    "### 2、模块化接口\n",
    "下面通过代码重新构建LeNet5网络结构，首先要定义一个torch.nn.Module的神经网络类并设置类的属性，然后重载forward()方法，定制神经网络前向传播过程。代码如下：\n",
    "![image-2.png](attachment:image-2.png)"
   ]
  },
  {
   "cell_type": "markdown",
   "id": "3f66c8e8",
   "metadata": {},
   "source": [
    "**如何定义自己的网络：**\n",
    "\n",
    "1、需要继承nn.Module类，并实现forward方法。继承nn.Module类之后，在构造函数中要调用Module的构造函数, super(Linear, self).init()\n",
    "一般把网络中具有可学习参数的层放在构造函数__init__()中。\n",
    "\n",
    "2、不具有可学习参数的层（如ReLU）可放在构造函数中，也可不放在构造函数中（而在forward中使用nn.functional来代替）。可学习参数放在构造函数中，并且通过nn.Parameter()使参数以parameters（一种tensor,默认是自动求导）的形式存在Module中，并且通过parameters()或者named_parameters()以迭代器的方式返回可学习参数。\n",
    "\n",
    "3、只要在nn.Module中定义了forward函数，**backward函数就会被自动实现（利用Autograd)**。而且一般不是显式的调用forward(layer.forward), 而是layer(input), 会自执行forward().\n",
    "\n",
    "4、在forward中可以使用任何Tensor支持的函数，毕竟在整个pytorch构建的图中，是Tensor在流动。还可以使用if, for, print, log等python语法。"
   ]
  },
  {
   "cell_type": "code",
   "execution_count": null,
   "id": "a395e329",
   "metadata": {},
   "outputs": [],
   "source": [
    "import torch\n",
    "import torch.nn as nn\n",
    "class LeNet5(nn.Module):\n",
    "    def __init__(self):\n",
    "        super(LeNet5,self).__init__()\n",
    "        self.feature=nn.Sequential(\n",
    "            nn.Conv2d(1,6,5,padding=2), #C1层\n",
    "            nn.ReLU(),\n",
    "            nn.MaxPool2d((2,2)),\n",
    "            nn.Conv2d(6,16,5), #C1层\n",
    "            nn.ReLU(),\n",
    "            nn.MaxPool2d((2,2)),\n",
    "            nn.Flatten(1,-1),\n",
    "            nn.Linear(16*5*5,120),\n",
    "            nn.ReLU(),\n",
    "            nn.Linear(120,84),\n",
    "            nn.ReLU()            \n",
    "        )\n",
    "        self.output=nn.Linear(84,10)\n",
    "    def forward(self,x):\n",
    "        x=self.feature(x)\n",
    "        x=self.output(x)\n",
    "        return x\n",
    "    \n",
    "lenet=LeNet5()  #创建一个LeNet5对象\n",
    "print(lenet)  #打印网络"
   ]
  },
  {
   "cell_type": "markdown",
   "id": "42023925",
   "metadata": {},
   "source": [
    "# 9.5 深度学习案例\n"
   ]
  },
  {
   "cell_type": "markdown",
   "id": "a50c9876",
   "metadata": {},
   "source": [
    "基于AlexNet网络模型解决手写数字识别问题。\n",
    "其具体过程是：先使用己经提供的训练数据对搭建好的神经网络模型进行训练并完成 参数优化：然后使用优化好的模型对测试数据进行预测，对比预测值和真实值之问的损失值，同时计算出结果预测的准确率。\n"
   ]
  },
  {
   "cell_type": "code",
   "execution_count": null,
   "id": "cd35543d",
   "metadata": {},
   "outputs": [],
   "source": [
    "#1、加载数据集\n",
    "#导入相关库\n",
    "import torch\n",
    "from torch import nn\n",
    "import torchvision\n",
    "from torchvision import datasets,transforms\n",
    "import numpy as np\n",
    "#创建数据预处理\n",
    "trans=transforms.Compose([\n",
    "    transforms.ToTensor(), #PIL.Image转换为Tensor\n",
    "    transforms.Resize(size=(28,28)),  #对Tensor进行缩放操作\n",
    "    transforms.Normalize((0.1307,),(0.3081,)) #归一化\n",
    "])\n",
    "#训练数据集的Dataset\n",
    "train_data=datasets.MNIST(root='./data',train=True, download=True,transform=trans)\n",
    "val_data=datasets.MNIST(root='./data',train=False, download=True,transform=trans)\n",
    "#提示：其他常用数据集如：COCO、ImageNet、CIFCAR等都是通过这个方法快速下载和载入。"
   ]
  },
  {
   "cell_type": "code",
   "execution_count": null,
   "id": "f82d8f4f",
   "metadata": {},
   "outputs": [],
   "source": [
    "#2、数据装载\n",
    "train_loader=torch.utils.data.DataLoader(dataset=train_data,\n",
    "                                        batch_size=32,\n",
    "                                        num_workers=8,   #多线程\n",
    "                                        shuffle=True)#\n",
    "val_loader=torch.utils.data.DataLoader(dataset=val_data,\n",
    "                                        batch_size=32,\n",
    "                                        num_workers=4,\n",
    "                                        shuffle=False)\n",
    "# 若conda虚拟共享内存不足，可缩小batch_size或取消多线程"
   ]
  },
  {
   "cell_type": "code",
   "execution_count": null,
   "id": "426b9b4c",
   "metadata": {},
   "outputs": [],
   "source": [
    "#3、创建AlexNet网络模型\n",
    "#定义AlexNet网络结构，继承于nn.Module类\n",
    "class AlexNet(nn.Module):\n",
    "    def __init__(self):\n",
    "        super(AlexNet,self).__init__()\n",
    "        self.layer1=nn.Sequential(\n",
    "            #卷积层，输入图像为28*28\n",
    "            nn.Conv2d(1, 32, kernel_size=3, padding=1),\n",
    "            nn.MaxPool2d(kernel_size=2, stride=2),#池化层特征图通道数不变，每个特征图分辨率变小\n",
    "            nn.ReLU(),#激活函数\n",
    "        )\n",
    "        self.layer2=nn.Sequential(\n",
    "            nn.Conv2d(32, 64, kernel_size=3,padding=1),\n",
    "            nn.MaxPool2d(kernel_size=2, stride=2),\n",
    "            nn.ReLU(),\n",
    "        )\n",
    "        self.layer3=nn.Sequential(\n",
    "            nn.Conv2d(64,128, kernel_size=3,padding=1),\n",
    "            nn.ReLU(),\n",
    "        )\n",
    "        self.layer4=nn.Sequential(\n",
    "            nn.Conv2d(128, 256, kernel_size=3, padding=1),\n",
    "            nn.ReLU(),\n",
    "        )\n",
    "        self.layer5=nn.Sequential(\n",
    "            nn.Conv2d(256, 256, kernel_size=3,padding=1),\n",
    "            nn.MaxPool2d(kernel_size=3, stride=2),\n",
    "            nn.ReLU(),\n",
    "            nn.Dropout(p=0.5),  #Dropout 机制  \n",
    "        )\n",
    "        self.dense=nn.Sequential(\n",
    "            nn.Linear(256*3*3,1024, bias=True), \n",
    "            nn.ReLU(),\n",
    "            nn.Dropout(p=0.5),\n",
    "            nn.Linear(1024,512, bias=True),\n",
    "            nn.ReLU(),\n",
    "            nn.Linear(512,10, bias=True)\n",
    "        )                          \n",
    "    def forward(self,x):\n",
    "        x=self.layer1(x)\n",
    "        x=self.layer2(x)\n",
    "        x=self.layer3(x)\n",
    "        x=self.layer4(x)\n",
    "        x=self.layer5(x)\n",
    "        x=x.view(-1,256*3*3)\n",
    "        x=self.dense(x)\n",
    "        return x\n",
    "alexnet=AlexNet()\n",
    "print(alexnet)"
   ]
  },
  {
   "cell_type": "code",
   "execution_count": null,
   "id": "af33b4a3",
   "metadata": {},
   "outputs": [],
   "source": [
    "#.4 创建损失函数和优化器\n",
    "#将模型放在GPU上\n",
    "if torch.cuda.is_available():\n",
    "    alexnet=alexnet.cuda()\n",
    "#交叉熵损失函数 \n",
    "cirterion=torch.nn.CrossEntropyLoss()\n",
    "#Adam优化算法\n",
    "optimizer=torch.optim.Adam(alexnet.parameters(),lr=1e-3)"
   ]
  },
  {
   "cell_type": "code",
   "execution_count": null,
   "id": "2e74b8aa",
   "metadata": {},
   "outputs": [],
   "source": [
    "# 5 模型训练和参数优化\n",
    "#构建训练过程，总计训练10次数据 集，训练图片数为10000张\n",
    "import time\n",
    "start_time=time.time()\n",
    "\n",
    "n_epochs=5\n",
    "for epoch in range(n_epochs):\n",
    "    #设置局部变量，用于计算总体损失和正确率\n",
    "    #total_loss=0\n",
    "    running_loss=0.0\n",
    "    running_correct=0.0\n",
    "    print(f\"Epoch {epoch}/{n_epochs}\")\n",
    "    print(\"-\"*20)\n",
    "    for data in train_loader:\n",
    "        x,y=data\n",
    "        #将数据拷贝到GPU上\n",
    "        if torch.cuda.is_available():    \n",
    "            x=x.cuda()\n",
    "            y=y.cuda()\n",
    "        #前向传播得到预测值 \n",
    "        y_hat=alexnet(x)\n",
    "        _,pred=torch.max(y_hat.data,1)\n",
    "        #计算局部损失和总体损失\n",
    "        loss=cirterion(y_hat,y)\n",
    "        #total_loss+=loss.cpu().item()\n",
    "        #反向传播更新参数\n",
    "        optimizer.zero_grad() #清空过往的梯度\n",
    "        loss.backward()\n",
    "        optimizer.step()\n",
    "        running_loss+=loss.cpu().item()\n",
    "        running_correct+=torch.sum(pred==y.data)\n",
    "    testing_correct=0\n",
    "    for data in val_loader:\n",
    "        x_val,y_val=data   \n",
    "        if torch.cuda.is_available():    \n",
    "            x_val=x_val.cuda()\n",
    "            y_val=y_val.cuda()\n",
    "        y_hat=alexnet(x_val)\n",
    "        _, pred=torch.max(y_hat.data,1)\n",
    "        testing_correct+=torch.sum(pred==y_val.data)\n",
    "    print(\"Loss is:{:.4f},Train Accuracy is:{:.4f}% ，Test Accuracy is:{:.4f}%\".\n",
    "          format(running_loss/len(train_data),100*running_correct/len(train_data),\n",
    "          100*testing_correct/len(val_data)))\n",
    "print(f\"the total time: {time.time()-start_time}\")"
   ]
  },
  {
   "cell_type": "code",
   "execution_count": null,
   "id": "933e807c",
   "metadata": {},
   "outputs": [],
   "source": [
    "#6 模型保存\n",
    "#保存模型权重和网络设置\n",
    "torch.save(alexnet,\"./alexnet.pth\")\n",
    "#载入模型权重和网络设置\n",
    "alexnet=torch.load(\"./alexnet.pth\")"
   ]
  },
  {
   "cell_type": "markdown",
   "id": "0abca493",
   "metadata": {},
   "source": [
    "# 9.6 迁移学习\n",
    "\n"
   ]
  },
  {
   "cell_type": "markdown",
   "id": "ecb84b8f",
   "metadata": {},
   "source": [
    "实际在深度神经网络算法的应用中，如果我们面对的是数据规模很大，那么在搭建好深度神经网络模型后，我们势必要花费大量的算力和时间去训练模型和优化参数，最后耗费了这么多资源得到的模型只能解决这一个问题，性价比非常低。如果我们用一个训练好的模型进行细微的调整来解决相似的问题，是不是可以？这就是迁移学习，最后取得的效果还很好。\n",
    "\n",
    "前面，我们学会了使用手动搭建的Alexnet卷积神经网络模型解决手写图片识别的问题。下面我们引用迁移学习看准确 性还能提升多少？\n",
    "\n",
    "### 迁移AlexNet"
   ]
  },
  {
   "cell_type": "markdown",
   "id": "90f9d789",
   "metadata": {},
   "source": [
    "##### 1、首先要下载已经具备最优参数的模型。\n",
    "这需要对我们之前使用的model=Models()代码部分进行替换，我们不需要再自己搭建和定义训练模型了。"
   ]
  },
  {
   "cell_type": "code",
   "execution_count": null,
   "id": "59486e74",
   "metadata": {},
   "outputs": [],
   "source": [
    "import torch\n",
    "import torchvision\n",
    "from torchvision import datasets,models,transforms\n",
    "import os\n",
    "import matplotlib.pyplot as plt\n",
    "import time\n",
    "from torch.autograd import Variable\n",
    "model=models.alexnet(pretrained=True)\n",
    "print(model)"
   ]
  },
  {
   "cell_type": "markdown",
   "id": "87109895",
   "metadata": {},
   "source": [
    "##### 2、对当前迁移过来的模型进行微调\n",
    "尽管问题具有相似性，但每个问题对最后输出的结果会有不一样的要求。调整最多的就是全连接的部分，其基本思路是冻结全连接层之前的全部网络层次，让这些被冻结的参数在模型训练中不进行梯度更新仅仅是没有被冻结的全连接层的全部参数。\n"
   ]
  },
  {
   "cell_type": "code",
   "execution_count": null,
   "id": "fad82523",
   "metadata": {},
   "outputs": [],
   "source": [
    "for param in model.parameters():\n",
    "    param.requires_grad=False\n",
    "model.features[0]=nn.Conv2d(1, 64, kernel_size=(3, 3), stride=(1, 1), padding=(1, 1))\n",
    "model.classifier=nn.Sequential(\n",
    "    nn.Dropout(p=0.5),\n",
    "    nn.Linear(9216, 4096),\n",
    "    nn.ReLU(),\n",
    "    nn.Dropout(p=0.5),\n",
    "    nn.Linear(4096, 4096),\n",
    "    nn. ReLU(),\n",
    "    nn.Linear(4096, 10)\n",
    "  )\n",
    "print(model)\n"
   ]
  },
  {
   "cell_type": "code",
   "execution_count": null,
   "id": "b843d6d6",
   "metadata": {},
   "outputs": [],
   "source": [
    "#将模型放在GPU上\n",
    "if torch.cuda.is_available():\n",
    "    model=model.cuda()\n",
    "#交叉熵损失函数 \n",
    "cirterion=torch.nn.CrossEntropyLoss()\n",
    "#Adam优化算法\n",
    "optimizer=torch.optim.Adam(model.classifier.parameters(),lr=1e-3)\n"
   ]
  },
  {
   "cell_type": "code",
   "execution_count": null,
   "id": "8b2132cd",
   "metadata": {},
   "outputs": [],
   "source": [
    "import time\n",
    "start_time=time.time()\n",
    "\n",
    "n_epochs=5\n",
    "for epoch in range(n_epochs):\n",
    "    #设置局部变量，用于计算总体损失和正确率\n",
    "    running_loss=0.0\n",
    "    running_correct=0.0\n",
    "    print(f\"Epoch {epoch}/{n_epochs}\")\n",
    "    print(\"-\"*20)\n",
    "    for data in train_loader:\n",
    "        x,y=data\n",
    "        #将数据拷贝到GPU上\n",
    "        if torch.cuda.is_available():    \n",
    "            x=x.cuda()\n",
    "            y=y.cuda()\n",
    "        #前向传播得到预测值 \n",
    "        y_hat=model(x)\n",
    "        _,pred=torch.max(y_hat.data,1)\n",
    "        #计算局部损失和总体损失\n",
    "        loss=cirterion(y_hat,y)\n",
    "        #反向传播更新参数\n",
    "        optimizer.zero_grad() #清空过往的梯度\n",
    "        loss.backward()\n",
    "        optimizer.step()\n",
    "        running_loss+=loss.cpu().item()\n",
    "        running_correct+=torch.sum(pred==y.data)\n",
    "    testing_correct=0\n",
    "    for data in val_loader:\n",
    "        x_val,y_val=data   \n",
    "        if torch.cuda.is_available():    \n",
    "            x_val=x_val.cuda()\n",
    "            y_val=y_val.cuda()\n",
    "        y_hat=model(x_val)\n",
    "        _, pred=torch.max(y_hat.data,1)\n",
    "        testing_correct+=torch.sum(pred==y_val.data)\n",
    "    print(\"Loss is:{:.4f},Train Accuracy is:{:.4f}% ，Test Accuracy is:{:.4f}%\".\n",
    "          format(running_loss/len(train_data),100*running_correct/len(train_data),\n",
    "          100*testing_correct/len(val_data)))\n",
    "print(f\"the total time: {time.time()-start_time}\")"
   ]
  },
  {
   "cell_type": "code",
   "execution_count": null,
   "id": "81bc6878",
   "metadata": {},
   "outputs": [],
   "source": []
  }
 ],
 "metadata": {
  "kernelspec": {
   "display_name": "Python 3 (ipykernel)",
   "language": "python",
   "name": "python3"
  },
  "language_info": {
   "codemirror_mode": {
    "name": "ipython",
    "version": 3
   },
   "file_extension": ".py",
   "mimetype": "text/x-python",
   "name": "python",
   "nbconvert_exporter": "python",
   "pygments_lexer": "ipython3",
   "version": "3.8.13"
  }
 },
 "nbformat": 4,
 "nbformat_minor": 5
}
