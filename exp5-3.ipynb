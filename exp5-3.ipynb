{
 "cells": [
  {
   "cell_type": "code",
   "execution_count": 3,
   "metadata": {},
   "outputs": [],
   "source": [
    "import nltk\n",
    "from nltk.classify import NaiveBayesClassifier\n",
    "from nltk.tokenize import word_tokenize\n",
    "from nltk.probability import FreqDist\n",
    "\n",
    "# 加载数据集并进行预处理和特征提取\n",
    "pos_reviews = [(\" \".join(movie_reviews.words(fileid)), 'positive')\n",
    "               for fileid in movie_reviews.fileids('pos')]\n",
    "neg_reviews = [(\" \".join(movie_reviews.words(fileid)), 'negative')\n",
    "               for fileid in movie_reviews.fileids('neg')]\n",
    "reviews = pos_reviews + neg_reviews\n",
    "\n",
    "all_words = []\n",
    "for w in movie_reviews.words():\n",
    "    all_words.append(w.lower())\n",
    "\n",
    "all_words = FreqDist(all_words)\n",
    "word_features = list(all_words.keys())[:2000]\n",
    "\n",
    "def document_features(document):\n",
    "    document_words = set(document)\n",
    "    features = {}\n",
    "    for word in word_features:\n",
    "        features['contains({})'.format(word)] = (word in document_words)\n",
    "    return features\n",
    "\n",
    "featuresets = [(document_features(d), c) for (d,c) in reviews]\n",
    "classifier = NaiveBayesClassifier.train(featuresets)\n"
   ]
  },
  {
   "cell_type": "code",
   "execution_count": 12,
   "metadata": {},
   "outputs": [
    {
     "name": "stdout",
     "output_type": "stream",
     "text": [
      "negative\n"
     ]
    }
   ],
   "source": [
    "\n",
    "# 对输入的句子进行分类\n",
    "sentence = \"I like it\"\n",
    "tokens = word_tokenize(sentence.lower())\n",
    "features = document_features(tokens)\n",
    "result = classifier.classify(features)\n",
    "print(result)\n"
   ]
  }
 ],
 "metadata": {
  "kernelspec": {
   "display_name": "base",
   "language": "python",
   "name": "python3"
  },
  "language_info": {
   "codemirror_mode": {
    "name": "ipython",
    "version": 3
   },
   "file_extension": ".py",
   "mimetype": "text/x-python",
   "name": "python",
   "nbconvert_exporter": "python",
   "pygments_lexer": "ipython3",
   "version": "3.8.5"
  },
  "orig_nbformat": 4
 },
 "nbformat": 4,
 "nbformat_minor": 2
}
